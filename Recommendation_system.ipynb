{
  "cells": [
    {
      "cell_type": "markdown",
      "metadata": {
        "id": "view-in-github",
        "colab_type": "text"
      },
      "source": [
        "<a href=\"https://colab.research.google.com/github/kavyakapoor200/recommendation-system/blob/main/Recommendation_system.ipynb\" target=\"_parent\"><img src=\"https://colab.research.google.com/assets/colab-badge.svg\" alt=\"Open In Colab\"/></a>"
      ]
    },
    {
      "cell_type": "code",
      "execution_count": 82,
      "metadata": {
        "colab": {
          "base_uri": "https://localhost:8080/"
        },
        "id": "47WaB4nvIIbw",
        "outputId": "86a4c6c5-7ade-4ad4-a6cc-3c9befc58b7f"
      },
      "outputs": [
        {
          "output_type": "stream",
          "name": "stdout",
          "text": [
            "Events DataFrame:\n",
            "       timestamp  visitorid event  itemid  transactionid\n",
            "0  1433221332117     257597  view  355908            NaN\n",
            "1  1433224214164     992329  view  248676            NaN\n",
            "2  1433221999827     111016  view  318965            NaN\n",
            "3  1433221955914     483717  view  253185            NaN\n",
            "4  1433221337106     951259  view  367447            NaN\n",
            "\n",
            "Item Properties DataFrame:\n",
            "       timestamp    itemid    property                            value\n",
            "0  1435460400000  460429.0  categoryid                             1338\n",
            "1  1441508400000  206783.0         888          1116713 960601 n277.200\n",
            "2  1439089200000  395014.0         400  n552.000 639502 n720.000 424566\n",
            "3  1431226800000   59481.0         790                       n15360.000\n",
            "4  1431831600000  156781.0         917                           828513\n",
            "\n",
            "Category Tree DataFrame:\n",
            "   categoryid  parentid\n",
            "0        1016     213.0\n",
            "1         809     169.0\n",
            "2         570       9.0\n",
            "3        1691     885.0\n",
            "4         536    1691.0\n"
          ]
        }
      ],
      "source": [
        "import pandas as pd\n",
        "\n",
        "# Load the CSV files into DataFrames\n",
        "events_df = pd.read_csv('events.csv')\n",
        "item_properties_df = pd.read_csv('item_properties.csv')\n",
        "category_tree_df = pd.read_csv('category_tree.csv')\n",
        "\n",
        "# Display the first few rows of each DataFrame\n",
        "print(\"Events DataFrame:\")\n",
        "print(events_df.head())\n",
        "\n",
        "print(\"\\nItem Properties DataFrame:\")\n",
        "print(item_properties_df.head())\n",
        "\n",
        "print(\"\\nCategory Tree DataFrame:\")\n",
        "print(category_tree_df.head())\n"
      ]
    },
    {
      "cell_type": "code",
      "execution_count": 83,
      "metadata": {
        "colab": {
          "base_uri": "https://localhost:8080/"
        },
        "id": "2xAXejNUN3z4",
        "outputId": "b68c91e2-4f3d-43c5-a7c0-be48a754da15"
      },
      "outputs": [
        {
          "output_type": "stream",
          "name": "stdout",
          "text": [
            "2015-06-01 06:00:09.198000 2015-06-23 05:59:10.226000\n",
            "Events DataFrame after timestamp conversion:\n",
            "                timestamp  visitorid event  itemid  transactionid\n",
            "0 2015-06-02 05:02:12.117     257597  view  355908            NaN\n",
            "1 2015-06-02 05:50:14.164     992329  view  248676            NaN\n",
            "2 2015-06-02 05:13:19.827     111016  view  318965            NaN\n",
            "3 2015-06-02 05:12:35.914     483717  view  253185            NaN\n",
            "4 2015-06-02 05:02:17.106     951259  view  367447            NaN\n",
            "\n",
            "Missing values in Events DataFrame:\n",
            "timestamp             0\n",
            "visitorid             0\n",
            "event                 0\n",
            "itemid                0\n",
            "transactionid    425872\n",
            "dtype: int64\n",
            "\n",
            "Shape of Events DataFrame after dropping missing values:\n",
            "(3504, 5)\n",
            "event\n",
            "transaction    3504\n",
            "Name: count, dtype: int64\n",
            "timestamp        0\n",
            "visitorid        0\n",
            "event            0\n",
            "itemid           0\n",
            "transactionid    0\n",
            "dtype: int64\n",
            "['transaction']\n"
          ]
        }
      ],
      "source": [
        "import pandas as pd\n",
        "\n",
        "# Load the Events DataFrame\n",
        "events_path = 'events.csv'\n",
        "events_df = pd.read_csv(events_path)\n",
        "\n",
        "# Convert the timestamp to a readable date-time format\n",
        "events_df['timestamp'] = pd.to_datetime(events_df['timestamp'], unit='ms')\n",
        "print(events_df['timestamp'].min(), events_df['timestamp'].max())\n",
        "\n",
        "\n",
        "# Display the first few rows to verify the conversion\n",
        "print(\"Events DataFrame after timestamp conversion:\")\n",
        "print(events_df.head())\n",
        "\n",
        "# Check for missing values\n",
        "print(\"\\nMissing values in Events DataFrame:\")\n",
        "print(events_df.isnull().sum())\n",
        "\n",
        "# Handle missing values (Example: Dropping rows with missing values)\n",
        "events_df.dropna(inplace=True)\n",
        "\n",
        "# Display the shape of the DataFrame after dropping missing values\n",
        "print(\"\\nShape of Events DataFrame after dropping missing values:\")\n",
        "print(events_df.shape)\n",
        "\n",
        "print(events_df['event'].value_counts())\n",
        "\n",
        "# Check for missing values in the events DataFrame\n",
        "print(events_df.isnull().sum())\n",
        "\n",
        "# Check for unique values in the 'event' column\n",
        "print(events_df['event'].unique())\n",
        "\n",
        "\n",
        "\n",
        "events_df.to_csv('cleaned_events.csv', index=False)\n",
        "\n"
      ]
    },
    {
      "cell_type": "code",
      "execution_count": 84,
      "metadata": {
        "colab": {
          "base_uri": "https://localhost:8080/"
        },
        "id": "paRKgkrvOQit",
        "outputId": "debd4fb9-b69d-4d09-c6e0-f0604618e723"
      },
      "outputs": [
        {
          "output_type": "stream",
          "name": "stdout",
          "text": [
            "2015-06-01 06:16:28.863000 2015-06-23 03:20:18.362000\n",
            "Item Properties DataFrame after timestamp conversion:\n",
            "            timestamp    itemid    property                            value\n",
            "0 2015-06-28 03:00:00  460429.0  categoryid                             1338\n",
            "1 2015-09-06 03:00:00  206783.0         888          1116713 960601 n277.200\n",
            "2 2015-08-09 03:00:00  395014.0         400  n552.000 639502 n720.000 424566\n",
            "3 2015-05-10 03:00:00   59481.0         790                       n15360.000\n",
            "4 2015-05-17 03:00:00  156781.0         917                           828513\n",
            "\n",
            "Missing values in Item Properties DataFrame:\n",
            "timestamp    0\n",
            "itemid       1\n",
            "property     1\n",
            "value        1\n",
            "dtype: int64\n",
            "\n",
            "Shape of Item Properties DataFrame after dropping missing values:\n",
            "(255794, 4)\n",
            "174099\n",
            "property\n",
            "888           37818\n",
            "790           22757\n",
            "available     18843\n",
            "categoryid     9928\n",
            "6              8088\n",
            "              ...  \n",
            "190               1\n",
            "843               1\n",
            "812               1\n",
            "426               1\n",
            "718               1\n",
            "Name: count, Length: 931, dtype: int64\n"
          ]
        }
      ],
      "source": [
        "# Load the Item Properties DataFrame\n",
        "item_properties_path = 'item_properties.csv'\n",
        "item_properties_df = pd.read_csv(item_properties_path)\n",
        "\n",
        "# Convert the timestamp to a readable date-time format\n",
        "item_properties_df['timestamp'] = pd.to_datetime(item_properties_df['timestamp'], unit='ms')\n",
        "print(events_df['timestamp'].min(), events_df['timestamp'].max())\n",
        "\n",
        "# Display the first few rows to verify the conversion\n",
        "print(\"Item Properties DataFrame after timestamp conversion:\")\n",
        "print(item_properties_df.head())\n",
        "\n",
        "# Check for missing values\n",
        "print(\"\\nMissing values in Item Properties DataFrame:\")\n",
        "print(item_properties_df.isnull().sum())\n",
        "\n",
        "# Handle missing values (Example: Dropping rows with missing values)\n",
        "item_properties_df.dropna(inplace=True)\n",
        "\n",
        "# Display the shape of the DataFrame after dropping missing values\n",
        "print(\"\\nShape of Item Properties DataFrame after dropping missing values:\")\n",
        "print(item_properties_df.shape)\n",
        "\n",
        "print(item_properties_df['itemid'].nunique())\n",
        "print(item_properties_df['property'].value_counts())\n"
      ]
    },
    {
      "cell_type": "code",
      "execution_count": 85,
      "metadata": {
        "colab": {
          "base_uri": "https://localhost:8080/"
        },
        "id": "Cx96-bOnAv5h",
        "outputId": "dc03bef3-8ead-41c8-de78-ca38a1ce98ef"
      },
      "outputs": [
        {
          "output_type": "stream",
          "name": "stdout",
          "text": [
            "Category Tree DataFrame:\n",
            "   categoryid  parentid\n",
            "0        1016     213.0\n",
            "1         809     169.0\n",
            "2         570       9.0\n",
            "3        1691     885.0\n",
            "4         536    1691.0\n",
            "\n",
            "Missing values in Category Tree DataFrame:\n",
            "categoryid     0\n",
            "parentid      25\n",
            "dtype: int64\n",
            "\n",
            "Shape of Category Tree DataFrame after dropping missing values:\n",
            "(1644, 2)\n"
          ]
        }
      ],
      "source": [
        "# Load the Category Tree DataFrame\n",
        "category_tree_path = 'category_tree.csv'\n",
        "category_tree_df = pd.read_csv(category_tree_path)\n",
        "\n",
        "# Display the first few rows to understand the structure\n",
        "print(\"Category Tree DataFrame:\")\n",
        "print(category_tree_df.head())\n",
        "\n",
        "# Check for missing values\n",
        "print(\"\\nMissing values in Category Tree DataFrame:\")\n",
        "print(category_tree_df.isnull().sum())\n",
        "\n",
        "# Handle missing values (Example: Dropping rows with missing values)\n",
        "category_tree_df.dropna(inplace=True)\n",
        "\n",
        "# Display the shape of the DataFrame after dropping missing values\n",
        "print(\"\\nShape of Category Tree DataFrame after dropping missing values:\")\n",
        "print(category_tree_df.shape)\n"
      ]
    },
    {
      "cell_type": "code",
      "execution_count": 86,
      "metadata": {
        "colab": {
          "base_uri": "https://localhost:8080/"
        },
        "id": "rK-alnVFP0ee",
        "outputId": "e4cc95b8-ebb6-47ab-fe4d-04fae91995f6"
      },
      "outputs": [
        {
          "output_type": "stream",
          "name": "stdout",
          "text": [
            "Data types in item_properties_df:\n",
            "timestamp      int64\n",
            "itemid       float64\n",
            "property       int64\n",
            "value         object\n",
            "dtype: object\n",
            "Integrated DataFrame:\n",
            "              timestamp_x  visitorid        event  itemid  transactionid  \\\n",
            "0 2015-06-02 05:17:56.276     599528  transaction  356475         4000.0   \n",
            "1 2015-06-01 21:18:20.981     121688  transaction   15335        11117.0   \n",
            "2 2015-06-01 21:25:15.008     552148  transaction   81345         5444.0   \n",
            "3 2015-06-01 16:38:56.375     102019  transaction  150318        13556.0   \n",
            "4 2015-06-01 16:38:56.375     102019  transaction  150318        13556.0   \n",
            "\n",
            "    timestamp_y  property                          value  categoryid  parentid  \n",
            "0           NaN       NaN                            NaN         NaN       NaN  \n",
            "1           NaN       NaN                            NaN         NaN       NaN  \n",
            "2           NaN       NaN                            NaN         NaN       NaN  \n",
            "3  1.441508e+12     790.0                     n67080.000       790.0    1492.0  \n",
            "4  1.437880e+12     888.0  1265514 1224110 734600 629205       888.0     866.0  \n",
            "DataFrame saved to final_df.csv\n"
          ]
        },
        {
          "output_type": "stream",
          "name": "stderr",
          "text": [
            "<ipython-input-86-cd2e69e07212>:11: SettingWithCopyWarning: \n",
            "A value is trying to be set on a copy of a slice from a DataFrame.\n",
            "Try using .loc[row_indexer,col_indexer] = value instead\n",
            "\n",
            "See the caveats in the documentation: https://pandas.pydata.org/pandas-docs/stable/user_guide/indexing.html#returning-a-view-versus-a-copy\n",
            "  item_properties_df['property'] = item_properties_df['property'].astype('int64')\n"
          ]
        }
      ],
      "source": [
        "# Load the Item Properties DataFrame\n",
        "item_properties_path = 'item_properties.csv'\n",
        "item_properties_df = pd.read_csv(item_properties_path)\n",
        "\n",
        "# Ensure 'property' column exists\n",
        "if 'property' in item_properties_df.columns:\n",
        "    # Filter out non-numeric values in 'property' column\n",
        "    item_properties_df = item_properties_df[pd.to_numeric(item_properties_df['property'], errors='coerce').notnull()]\n",
        "\n",
        "    # Convert the 'property' column to int64\n",
        "    item_properties_df['property'] = item_properties_df['property'].astype('int64')\n",
        "else:\n",
        "    raise KeyError(\"'property' column not found in item_properties_df\")\n",
        "\n",
        "# Verify the conversion\n",
        "print(\"Data types in item_properties_df:\")\n",
        "print(item_properties_df.dtypes)\n",
        "\n",
        "# Ensure 'itemid' exists in events_df and item_properties_df\n",
        "if 'itemid' in events_df.columns and 'itemid' in item_properties_df.columns:\n",
        "    # Merge events_df with item_properties_df on 'itemid'\n",
        "    merged_df = pd.merge(events_df, item_properties_df, on='itemid', how='left')\n",
        "else:\n",
        "    raise KeyError(\"'itemid' column not found in one or both DataFrames (events_df or item_properties_df)\")\n",
        "\n",
        "# Ensure 'categoryid' exists in category_tree_df and 'property' exists in merged_df\n",
        "if 'categoryid' in category_tree_df.columns and 'property' in merged_df.columns:\n",
        "    # Merge the result with category_tree_df on 'property' and 'categoryid'\n",
        "    final_df = pd.merge(merged_df, category_tree_df, left_on='property', right_on='categoryid', how='left')\n",
        "else:\n",
        "    raise KeyError(\"'categoryid' column not found in category_tree_df or 'property' not found in merged_df\")\n",
        "\n",
        "# Display the first few rows of the integrated DataFrame\n",
        "print(\"Integrated DataFrame:\")\n",
        "print(final_df.head())\n",
        "\n",
        "# Specify the file name and path where you want to save the CSV\n",
        "output_file = 'final_df.csv'\n",
        "\n",
        "# Save the DataFrame to a CSV file\n",
        "final_df.to_csv(output_file, index=False)\n",
        "\n",
        "print(f\"DataFrame saved to {output_file}\")\n",
        "\n"
      ]
    },
    {
      "cell_type": "code",
      "execution_count": 87,
      "metadata": {
        "colab": {
          "base_uri": "https://localhost:8080/"
        },
        "id": "_kjSLO0yRhDD",
        "outputId": "b99e5156-e9a4-46d9-b84a-670e67fe4dc5"
      },
      "outputs": [
        {
          "output_type": "stream",
          "name": "stdout",
          "text": [
            "Summary Statistics of Integrated DataFrame:\n",
            "                         timestamp_x     visitorid         itemid  \\\n",
            "count                           4444  4.444000e+03    4444.000000   \n",
            "mean   2015-06-11 21:29:56.883651840  7.066258e+05  238875.877138   \n",
            "min       2015-06-01 06:16:28.863000  5.390000e+02      25.000000   \n",
            "25%    2015-06-05 23:01:01.947500032  3.545540e+05  120007.750000   \n",
            "50%    2015-06-11 20:16:56.940999936  7.301880e+05  245400.000000   \n",
            "75%    2015-06-17 06:48:45.988499968  1.088322e+06  360340.750000   \n",
            "max       2015-06-23 03:20:18.362000  1.406787e+06  466614.000000   \n",
            "std                              NaN  4.031256e+05  135843.697107   \n",
            "\n",
            "       transactionid   timestamp_y     property   categoryid     parentid  \n",
            "count    4444.000000  2.598000e+03  2598.000000  2567.000000  2567.000000  \n",
            "mean     8960.848335  1.435710e+12   654.070824   655.046358  1010.755356  \n",
            "min         0.000000  1.431227e+12     0.000000     0.000000     8.000000  \n",
            "25%      4481.250000  1.433041e+12   400.000000   400.000000   727.000000  \n",
            "50%      8945.500000  1.435460e+12   790.000000   790.000000   945.000000  \n",
            "75%     13462.250000  1.439089e+12   888.000000   888.000000  1492.000000  \n",
            "max     17671.000000  1.442113e+12  1096.000000  1096.000000  1687.000000  \n",
            "std      5135.226032  3.337956e+09   287.750169   288.711500   474.394233  \n"
          ]
        }
      ],
      "source": [
        "# Basic statistics of the integrated DataFrame\n",
        "print(\"Summary Statistics of Integrated DataFrame:\")\n",
        "print(final_df.describe())\n"
      ]
    },
    {
      "cell_type": "code",
      "execution_count": 88,
      "metadata": {
        "colab": {
          "base_uri": "https://localhost:8080/",
          "height": 623
        },
        "id": "h9kTVAdTRkYY",
        "outputId": "ceca946a-07e6-4807-85cb-11129129ebfa"
      },
      "outputs": [
        {
          "output_type": "stream",
          "name": "stdout",
          "text": [
            "\n",
            "Distribution of Events:\n",
            "event\n",
            "transaction    4444\n",
            "Name: count, dtype: int64\n"
          ]
        },
        {
          "output_type": "display_data",
          "data": {
            "text/plain": [
              "<Figure size 640x480 with 1 Axes>"
            ],
            "image/png": "[encoded data removed]"
          },
          "metadata": {}
        }
      ],
      "source": [
        "# Distribution of different types of events\n",
        "event_counts = final_df['event'].value_counts()\n",
        "print(\"\\nDistribution of Events:\")\n",
        "print(event_counts)\n",
        "\n",
        "# Visualize the distribution of events\n",
        "import matplotlib.pyplot as plt\n",
        "\n",
        "event_counts.plot(kind='bar', color=['skyblue', 'orange', 'green'])\n",
        "plt.title('Distribution of Events')\n",
        "plt.xlabel('Event Type')\n",
        "plt.ylabel('Count')\n",
        "plt.show()\n"
      ]
    },
    {
      "cell_type": "code",
      "execution_count": 89,
      "metadata": {
        "colab": {
          "base_uri": "https://localhost:8080/"
        },
        "id": "lpTnbetHjBzU",
        "outputId": "b8ce709a-ae55-4f3a-8979-8c916ec013d9"
      },
      "outputs": [
        {
          "output_type": "stream",
          "name": "stdout",
          "text": [
            "(4444, 10)\n",
            "Missing values: timestamp_x         0\n",
            "visitorid           0\n",
            "event               0\n",
            "itemid              0\n",
            "transactionid       0\n",
            "timestamp_y      1846\n",
            "property         1846\n",
            "value            1846\n",
            "categoryid       1877\n",
            "parentid         1877\n",
            "dtype: int64\n",
            "\n",
            "Shape of final_df after dropping missing values:\n",
            "(2567, 10)\n",
            "Missing values: timestamp_x      0\n",
            "visitorid        0\n",
            "event            0\n",
            "itemid           0\n",
            "transactionid    0\n",
            "timestamp_y      0\n",
            "property         0\n",
            "value            0\n",
            "categoryid       0\n",
            "parentid         0\n",
            "dtype: int64\n"
          ]
        }
      ],
      "source": [
        "import pandas as pd\n",
        "\n",
        "# Load the dataset\n",
        "file_path = 'final_df.csv'  # Adjust to the correct file path\n",
        "final_df = pd.read_csv(file_path)\n",
        "print(final_df.shape)\n",
        "\n",
        "# Check for missing values\n",
        "print(\"Missing values:\", final_df.isnull().sum())\n",
        "#drop the missing values\n",
        "final_df.dropna(inplace=True)\n",
        "#the final shape of final.df\n",
        "print(\"\\nShape of final_df after dropping missing values:\")\n",
        "print(final_df.shape)\n",
        "\n",
        "print(\"Missing values:\", final_df.isnull().sum())\n",
        "\n",
        "\n",
        "\n",
        "\n"
      ]
    },
    {
      "cell_type": "code",
      "source": [
        "import pandas as pd\n",
        "\n",
        "# Load the CSV file\n",
        "file_path = '/content/final_df_a.csv'\n",
        "final_df = pd.read_csv(file_path)\n",
        "\n",
        "# Aggregate the data by summing interaction weights for each visitor and item\n",
        "final_df = final_df.groupby(['visitorid', 'itemid'], as_index=False).agg({\n",
        "    'interaction_weight': 'sum'\n",
        "})\n",
        "\n",
        "# Save the final table to a CSV file\n",
        "output_path = '/content/final_df_a_aggregated.csv'\n",
        "final_df.to_csv(output_path, index=False)\n",
        "\n",
        "print(f\"Aggregated data saved to '{output_path}'\")\n"
      ],
      "metadata": {
        "colab": {
          "base_uri": "https://localhost:8080/"
        },
        "id": "BUgRZuhsNOXC",
        "outputId": "739ed653-770f-45b0-94ca-a2871e77c280"
      },
      "execution_count": 112,
      "outputs": [
        {
          "output_type": "stream",
          "name": "stdout",
          "text": [
            "Aggregated data saved to '/content/final_df_a_aggregated.csv'\n"
          ]
        }
      ]
    },
    {
      "cell_type": "code",
      "execution_count": 113,
      "metadata": {
        "id": "udTFMsLDpJ9B"
      },
      "outputs": [],
      "source": [
        "import pandas as pd\n",
        "import numpy as np\n",
        "from scipy.sparse import coo_matrix\n",
        "\n",
        "# Load your dataset\n",
        "df = pd.read_csv('final_df_a_aggregated.csv')  # Adjust the file path as needed\n",
        "\n",
        "# Create the interaction matrix (visitorid vs itemid)\n",
        "interaction_matrix = pd.pivot_table(df, values='interaction_weight',\n",
        "                                   index='visitorid', columns='itemid',\n",
        "                                   aggfunc='sum', fill_value=0)\n",
        "\n",
        "# Convert the interaction matrix to sparse format\n",
        "sparse_matrix = coo_matrix(interaction_matrix.values)\n",
        "\n"
      ]
    },
    {
      "cell_type": "code",
      "execution_count": 114,
      "metadata": {
        "id": "AiuhBOQjGfQI"
      },
      "outputs": [],
      "source": [
        "from scipy.sparse.linalg import svds\n",
        "\n",
        "# Ensure the sparse matrix is in float type\n",
        "sparse_matrix = sparse_matrix.astype(float)\n",
        "\n",
        "# Perform SVD\n",
        "U, sigma, Vt = svds(sparse_matrix, k=100)  # You can adjust k for the rank of decomposition\n",
        "\n",
        "# Convert sigma to a diagonal matrix\n",
        "sigma = np.diag(sigma)\n",
        "\n",
        "# Reconstruct the predicted matrix\n",
        "predicted_matrix = np.dot(U, np.dot(sigma, Vt))\n",
        "\n",
        "# Convert the predicted matrix back to a DataFrame\n",
        "predicted_df = pd.DataFrame(predicted_matrix, columns=interaction_matrix.columns, index=interaction_matrix.index)\n"
      ]
    },
    {
      "cell_type": "code",
      "execution_count": 116,
      "metadata": {
        "colab": {
          "base_uri": "https://localhost:8080/"
        },
        "id": "YxVPCR0A9oI-",
        "outputId": "ec616ef9-f3e6-4f06-d872-685038aa1412"
      },
      "outputs": [
        {
          "output_type": "stream",
          "name": "stdout",
          "text": [
            "Top 3 recommended items for visitor 172: [369933.0, 465522.0, 51969.0]\n"
          ]
        }
      ],
      "source": [
        "def get_top_n_recommendations(visitor_id, predicted_df, N=3):\n",
        "    # Get the predicted ratings for the visitor\n",
        "    visitor_predicted_ratings = predicted_df.loc[visitor_id].sort_values(ascending=False)\n",
        "\n",
        "    # Get the top N recommended items\n",
        "    top_n_items = visitor_predicted_ratings.head(N).index.tolist()\n",
        "\n",
        "    return top_n_items\n",
        "\n",
        "# Example: Get top 3 recommendations for visitor 57905 and for 172\n",
        "visitor_id = 172\n",
        "recommended_items = get_top_n_recommendations(visitor_id, predicted_df, N=3)\n",
        "print(f\"Top 3 recommended items for visitor {visitor_id}: {recommended_items}\")\n"
      ]
    },
    {
      "cell_type": "code",
      "execution_count": 117,
      "metadata": {
        "colab": {
          "base_uri": "https://localhost:8080/"
        },
        "id": "dGyS2B9fQsSu",
        "outputId": "97399d04-145b-4635-9c9c-3455b4283407"
      },
      "outputs": [
        {
          "output_type": "stream",
          "name": "stdout",
          "text": [
            "Precision: 0.3333\n",
            "Recall: 0.5000\n",
            "F1-Score: 0.4000\n",
            "Hit Ratio: 1.0000\n"
          ]
        }
      ],
      "source": [
        "from sklearn.metrics import precision_score, recall_score, f1_score\n",
        "\n",
        "# List of items the user actually interacted with (ground truth)\n",
        "# actual_interacted_items = [62275,138196,267416,338395,341009,428257,459583,288267]\n",
        "actual_interacted_items = [10034,465522]\n",
        "\n",
        "# List of items recommended by the system\n",
        "#recommended_items = [428257.0, 341009.0, 338395.0]\n",
        "recommended_items = [369933.0, 465522.0, 51969.0]\n",
        "\n",
        "# Convert both lists to sets for easier comparison\n",
        "actual_set = set(actual_interacted_items)\n",
        "recommended_set = set(recommended_items)\n",
        "\n",
        "# Calculate Precision\n",
        "# True Positives = intersection of actual_interacted_items and recommended_items\n",
        "tp = len(actual_set.intersection(recommended_set))\n",
        "fp = len(recommended_set) - tp\n",
        "precision = tp / (tp + fp) if tp + fp != 0 else 0\n",
        "\n",
        "# Calculate Recall\n",
        "# False Negatives = actual_interacted_items not in recommended_items\n",
        "fn = len(actual_set) - tp\n",
        "recall = tp / (tp + fn) if tp + fn != 0 else 0\n",
        "\n",
        "# Calculate F1-Score\n",
        "f1 = 2 * (precision * recall) / (precision + recall) if precision + recall != 0 else 0\n",
        "\n",
        "# Calculate Hit Ratio\n",
        "hit_ratio = 1 if tp > 0 else 0  # If at least one item was recommended, it counts as a hit\n",
        "\n",
        "# Print the results\n",
        "print(f\"Precision: {precision:.4f}\")\n",
        "print(f\"Recall: {recall:.4f}\")\n",
        "print(f\"F1-Score: {f1:.4f}\")\n",
        "print(f\"Hit Ratio: {hit_ratio:.4f}\")\n",
        "\n"
      ]
    }
  ],
  "metadata": {
    "colab": {
      "provenance": [],
      "authorship_tag": "ABX9TyMBA+P9K8n2vi06jS64fgKQ",
      "include_colab_link": true
    },
    "kernelspec": {
      "display_name": "Python 3",
      "name": "python3"
    },
    "language_info": {
      "name": "python"
    }
  },
  "nbformat": 4,
  "nbformat_minor": 0
}