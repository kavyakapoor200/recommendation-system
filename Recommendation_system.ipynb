{
  "cells": [
    {
      "cell_type": "markdown",
      "metadata": {
        "id": "view-in-github",
        "colab_type": "text"
      },
      "source": [
        "<a href=\"https://colab.research.google.com/github/kavyakapoor200/recommendation-system/blob/main/Recommendation_system.ipynb\" target=\"_parent\"><img src=\"https://colab.research.google.com/assets/colab-badge.svg\" alt=\"Open In Colab\"/></a>"
      ]
    },
    {
      "cell_type": "code",
      "execution_count": null,
      "metadata": {
        "colab": {
          "base_uri": "https://localhost:8080/"
        },
        "id": "47WaB4nvIIbw",
        "outputId": "c759316a-4f16-4596-d1b8-20af59eb2054"
      },
      "outputs": [
        {
          "output_type": "stream",
          "name": "stdout",
          "text": [
            "Events DataFrame:\n",
            "       timestamp  visitorid event    itemid  transactionid\n",
            "0  1433221332117   257597.0  view  355908.0            NaN\n",
            "1  1433224214164   992329.0  view  248676.0            NaN\n",
            "2  1433221999827   111016.0  view  318965.0            NaN\n",
            "3  1433221955914   483717.0  view  253185.0            NaN\n",
            "4  1433221337106   951259.0  view  367447.0            NaN\n",
            "\n",
            "Item Properties DataFrame:\n",
            "       timestamp    itemid    property                            value\n",
            "0  1435460400000  460429.0  categoryid                             1338\n",
            "1  1441508400000  206783.0         888          1116713 960601 n277.200\n",
            "2  1439089200000  395014.0         400  n552.000 639502 n720.000 424566\n",
            "3  1431226800000   59481.0         790                       n15360.000\n",
            "4  1431831600000  156781.0         917                           828513\n",
            "\n",
            "Category Tree DataFrame:\n",
            "   categoryid  parentid\n",
            "0        1016     213.0\n",
            "1         809     169.0\n",
            "2         570       9.0\n",
            "3        1691     885.0\n",
            "4         536    1691.0\n"
          ]
        }
      ],
      "source": [
        "import pandas as pd\n",
        "\n",
        "# Load the CSV files into DataFrames\n",
        "events_df = pd.read_csv('events.csv')\n",
        "item_properties_df = pd.read_csv('item_properties.csv')\n",
        "category_tree_df = pd.read_csv('category_tree.csv')\n",
        "\n",
        "# Display the first few rows of each DataFrame\n",
        "print(\"Events DataFrame:\")\n",
        "print(events_df.head())\n",
        "\n",
        "print(\"\\nItem Properties DataFrame:\")\n",
        "print(item_properties_df.head())\n",
        "\n",
        "print(\"\\nCategory Tree DataFrame:\")\n",
        "print(category_tree_df.head())\n"
      ]
    },
    {
      "cell_type": "code",
      "execution_count": null,
      "metadata": {
        "colab": {
          "base_uri": "https://localhost:8080/"
        },
        "id": "2xAXejNUN3z4",
        "outputId": "0141eb95-fa7a-42ad-eb87-29c4305bc932"
      },
      "outputs": [
        {
          "output_type": "stream",
          "name": "stdout",
          "text": [
            "1974-07-26 02:52:17.288000 2015-08-24 05:59:50.291000\n",
            "Events DataFrame after timestamp conversion:\n",
            "                timestamp  visitorid event    itemid  transactionid\n",
            "0 2015-06-02 05:02:12.117   257597.0  view  355908.0            NaN\n",
            "1 2015-06-02 05:50:14.164   992329.0  view  248676.0            NaN\n",
            "2 2015-06-02 05:13:19.827   111016.0  view  318965.0            NaN\n",
            "3 2015-06-02 05:12:35.914   483717.0  view  253185.0            NaN\n",
            "4 2015-06-02 05:02:17.106   951259.0  view  367447.0            NaN\n",
            "\n",
            "Missing values in Events DataFrame:\n",
            "timestamp              0\n",
            "visitorid              1\n",
            "event                  1\n",
            "itemid                 1\n",
            "transactionid    1003572\n",
            "dtype: int64\n",
            "\n",
            "Shape of Events DataFrame after dropping missing values:\n",
            "(8322, 5)\n",
            "event\n",
            "transaction    8322\n",
            "Name: count, dtype: int64\n",
            "timestamp        0\n",
            "visitorid        0\n",
            "event            0\n",
            "itemid           0\n",
            "transactionid    0\n",
            "dtype: int64\n",
            "['transaction']\n"
          ]
        }
      ],
      "source": [
        "import pandas as pd\n",
        "\n",
        "# Load the Events DataFrame\n",
        "events_path = 'events.csv'\n",
        "events_df = pd.read_csv(events_path)\n",
        "\n",
        "# Convert the timestamp to a readable date-time format\n",
        "events_df['timestamp'] = pd.to_datetime(events_df['timestamp'], unit='ms')\n",
        "print(events_df['timestamp'].min(), events_df['timestamp'].max())\n",
        "\n",
        "\n",
        "# Display the first few rows to verify the conversion\n",
        "print(\"Events DataFrame after timestamp conversion:\")\n",
        "print(events_df.head())\n",
        "\n",
        "# Check for missing values\n",
        "print(\"\\nMissing values in Events DataFrame:\")\n",
        "print(events_df.isnull().sum())\n",
        "\n",
        "# Handle missing values (Example: Dropping rows with missing values)\n",
        "events_df.dropna(inplace=True)\n",
        "\n",
        "# Display the shape of the DataFrame after dropping missing values\n",
        "print(\"\\nShape of Events DataFrame after dropping missing values:\")\n",
        "print(events_df.shape)\n",
        "\n",
        "print(events_df['event'].value_counts())\n",
        "\n",
        "# Check for missing values in the events DataFrame\n",
        "print(events_df.isnull().sum())\n",
        "\n",
        "# Check for unique values in the 'event' column\n",
        "print(events_df['event'].unique())\n",
        "\n",
        "\n",
        "\n",
        "events_df.to_csv('cleaned_events.csv', index=False)\n",
        "\n"
      ]
    },
    {
      "cell_type": "code",
      "execution_count": null,
      "metadata": {
        "colab": {
          "base_uri": "https://localhost:8080/"
        },
        "id": "paRKgkrvOQit",
        "outputId": "4e71e30e-c327-4aa1-94ce-9cc7e721bdfb"
      },
      "outputs": [
        {
          "output_type": "stream",
          "name": "stdout",
          "text": [
            "2015-06-01 06:16:28.863000 2015-08-24 05:24:36.422000\n",
            "Item Properties DataFrame after timestamp conversion:\n",
            "            timestamp    itemid    property                            value\n",
            "0 2015-06-28 03:00:00  460429.0  categoryid                             1338\n",
            "1 2015-09-06 03:00:00  206783.0         888          1116713 960601 n277.200\n",
            "2 2015-08-09 03:00:00  395014.0         400  n552.000 639502 n720.000 424566\n",
            "3 2015-05-10 03:00:00   59481.0         790                       n15360.000\n",
            "4 2015-05-17 03:00:00  156781.0         917                           828513\n",
            "\n",
            "Missing values in Item Properties DataFrame:\n",
            "timestamp    0\n",
            "itemid       1\n",
            "property     1\n",
            "value        1\n",
            "dtype: int64\n",
            "\n",
            "Shape of Item Properties DataFrame after dropping missing values:\n",
            "(652036, 4)\n",
            "276937\n",
            "property\n",
            "888           96350\n",
            "790           57794\n",
            "available     48083\n",
            "categoryid    25235\n",
            "6             20503\n",
            "              ...  \n",
            "877               1\n",
            "427               1\n",
            "353               1\n",
            "1072              1\n",
            "507               1\n",
            "Name: count, Length: 1016, dtype: int64\n"
          ]
        }
      ],
      "source": [
        "# Load the Item Properties DataFrame\n",
        "item_properties_path = 'item_properties.csv'\n",
        "item_properties_df = pd.read_csv(item_properties_path)\n",
        "\n",
        "# Convert the timestamp to a readable date-time format\n",
        "item_properties_df['timestamp'] = pd.to_datetime(item_properties_df['timestamp'], unit='ms')\n",
        "print(events_df['timestamp'].min(), events_df['timestamp'].max())\n",
        "\n",
        "# Display the first few rows to verify the conversion\n",
        "print(\"Item Properties DataFrame after timestamp conversion:\")\n",
        "print(item_properties_df.head())\n",
        "\n",
        "# Check for missing values\n",
        "print(\"\\nMissing values in Item Properties DataFrame:\")\n",
        "print(item_properties_df.isnull().sum())\n",
        "\n",
        "# Handle missing values (Example: Dropping rows with missing values)\n",
        "item_properties_df.dropna(inplace=True)\n",
        "\n",
        "# Display the shape of the DataFrame after dropping missing values\n",
        "print(\"\\nShape of Item Properties DataFrame after dropping missing values:\")\n",
        "print(item_properties_df.shape)\n",
        "\n",
        "print(item_properties_df['itemid'].nunique())\n",
        "print(item_properties_df['property'].value_counts())\n"
      ]
    },
    {
      "cell_type": "code",
      "execution_count": null,
      "metadata": {
        "colab": {
          "base_uri": "https://localhost:8080/"
        },
        "id": "Cx96-bOnAv5h",
        "outputId": "bfeca1ab-bc05-4200-f26d-f7d02b380175"
      },
      "outputs": [
        {
          "output_type": "stream",
          "name": "stdout",
          "text": [
            "Category Tree DataFrame:\n",
            "   categoryid  parentid\n",
            "0        1016     213.0\n",
            "1         809     169.0\n",
            "2         570       9.0\n",
            "3        1691     885.0\n",
            "4         536    1691.0\n",
            "\n",
            "Missing values in Category Tree DataFrame:\n",
            "categoryid     0\n",
            "parentid      25\n",
            "dtype: int64\n",
            "\n",
            "Shape of Category Tree DataFrame after dropping missing values:\n",
            "(1644, 2)\n"
          ]
        }
      ],
      "source": [
        "# Load the Category Tree DataFrame\n",
        "category_tree_path = 'category_tree.csv'\n",
        "category_tree_df = pd.read_csv(category_tree_path)\n",
        "\n",
        "# Display the first few rows to understand the structure\n",
        "print(\"Category Tree DataFrame:\")\n",
        "print(category_tree_df.head())\n",
        "\n",
        "# Check for missing values\n",
        "print(\"\\nMissing values in Category Tree DataFrame:\")\n",
        "print(category_tree_df.isnull().sum())\n",
        "\n",
        "# Handle missing values (Example: Dropping rows with missing values)\n",
        "category_tree_df.dropna(inplace=True)\n",
        "\n",
        "# Display the shape of the DataFrame after dropping missing values\n",
        "print(\"\\nShape of Category Tree DataFrame after dropping missing values:\")\n",
        "print(category_tree_df.shape)\n"
      ]
    },
    {
      "cell_type": "code",
      "execution_count": null,
      "metadata": {
        "colab": {
          "base_uri": "https://localhost:8080/"
        },
        "id": "rK-alnVFP0ee",
        "outputId": "50dab3a2-d8dc-4b4c-a65a-71298f088dac"
      },
      "outputs": [
        {
          "output_type": "stream",
          "name": "stderr",
          "text": [
            "<ipython-input-142-cd2e69e07212>:11: SettingWithCopyWarning: \n",
            "A value is trying to be set on a copy of a slice from a DataFrame.\n",
            "Try using .loc[row_indexer,col_indexer] = value instead\n",
            "\n",
            "See the caveats in the documentation: https://pandas.pydata.org/pandas-docs/stable/user_guide/indexing.html#returning-a-view-versus-a-copy\n",
            "  item_properties_df['property'] = item_properties_df['property'].astype('int64')\n"
          ]
        },
        {
          "output_type": "stream",
          "name": "stdout",
          "text": [
            "Data types in item_properties_df:\n",
            "timestamp      int64\n",
            "itemid       float64\n",
            "property       int64\n",
            "value         object\n",
            "dtype: object\n",
            "Integrated DataFrame:\n",
            "              timestamp_x  visitorid        event    itemid  transactionid  \\\n",
            "0 2015-06-02 05:17:56.276   599528.0  transaction  356475.0         4000.0   \n",
            "1 2015-06-01 21:18:20.981   121688.0  transaction   15335.0        11117.0   \n",
            "2 2015-06-01 21:25:15.008   552148.0  transaction   81345.0         5444.0   \n",
            "3 2015-06-01 16:38:56.375   102019.0  transaction  150318.0        13556.0   \n",
            "4 2015-06-01 16:38:56.375   102019.0  transaction  150318.0        13556.0   \n",
            "\n",
            "    timestamp_y  property                          value  categoryid  parentid  \n",
            "0  1.439694e+12     591.0                        1116693       591.0     933.0  \n",
            "1           NaN       NaN                            NaN         NaN       NaN  \n",
            "2           NaN       NaN                            NaN         NaN       NaN  \n",
            "3  1.441508e+12     790.0                     n67080.000       790.0    1492.0  \n",
            "4  1.437880e+12     888.0  1265514 1224110 734600 629205       888.0     866.0  \n",
            "DataFrame saved to final_df.csv\n"
          ]
        }
      ],
      "source": [
        "# Load the Item Properties DataFrame\n",
        "item_properties_path = 'item_properties.csv'\n",
        "item_properties_df = pd.read_csv(item_properties_path)\n",
        "\n",
        "# Ensure 'property' column exists\n",
        "if 'property' in item_properties_df.columns:\n",
        "    # Filter out non-numeric values in 'property' column\n",
        "    item_properties_df = item_properties_df[pd.to_numeric(item_properties_df['property'], errors='coerce').notnull()]\n",
        "\n",
        "    # Convert the 'property' column to int64\n",
        "    item_properties_df['property'] = item_properties_df['property'].astype('int64')\n",
        "else:\n",
        "    raise KeyError(\"'property' column not found in item_properties_df\")\n",
        "\n",
        "# Verify the conversion\n",
        "print(\"Data types in item_properties_df:\")\n",
        "print(item_properties_df.dtypes)\n",
        "\n",
        "# Ensure 'itemid' exists in events_df and item_properties_df\n",
        "if 'itemid' in events_df.columns and 'itemid' in item_properties_df.columns:\n",
        "    # Merge events_df with item_properties_df on 'itemid'\n",
        "    merged_df = pd.merge(events_df, item_properties_df, on='itemid', how='left')\n",
        "else:\n",
        "    raise KeyError(\"'itemid' column not found in one or both DataFrames (events_df or item_properties_df)\")\n",
        "\n",
        "# Ensure 'categoryid' exists in category_tree_df and 'property' exists in merged_df\n",
        "if 'categoryid' in category_tree_df.columns and 'property' in merged_df.columns:\n",
        "    # Merge the result with category_tree_df on 'property' and 'categoryid'\n",
        "    final_df = pd.merge(merged_df, category_tree_df, left_on='property', right_on='categoryid', how='left')\n",
        "else:\n",
        "    raise KeyError(\"'categoryid' column not found in category_tree_df or 'property' not found in merged_df\")\n",
        "\n",
        "# Display the first few rows of the integrated DataFrame\n",
        "print(\"Integrated DataFrame:\")\n",
        "print(final_df.head())\n",
        "\n",
        "# Specify the file name and path where you want to save the CSV\n",
        "output_file = 'final_df.csv'\n",
        "\n",
        "# Save the DataFrame to a CSV file\n",
        "final_df.to_csv(output_file, index=False)\n",
        "\n",
        "print(f\"DataFrame saved to {output_file}\")\n",
        "\n"
      ]
    },
    {
      "cell_type": "code",
      "execution_count": null,
      "metadata": {
        "colab": {
          "base_uri": "https://localhost:8080/"
        },
        "id": "_kjSLO0yRhDD",
        "outputId": "16a1c3e2-af0f-4f25-e852-386b4148490b"
      },
      "outputs": [
        {
          "output_type": "stream",
          "name": "stdout",
          "text": [
            "Summary Statistics of Integrated DataFrame:\n",
            "                         timestamp_x     visitorid         itemid  \\\n",
            "count                          18392  1.839200e+04   18392.000000   \n",
            "mean   2015-07-08 23:12:34.581532672  7.014243e+05  236507.757558   \n",
            "min       2015-06-01 06:16:28.863000  1.720000e+02      19.000000   \n",
            "25%    2015-06-15 00:04:09.396999936  3.442710e+05  122585.250000   \n",
            "50%    2015-06-25 17:08:54.599000064  7.055420e+05  243087.000000   \n",
            "75%    2015-08-09 17:06:10.739749888  1.075423e+06  353433.750000   \n",
            "max       2015-08-24 05:24:36.422000  1.407110e+06  466614.000000   \n",
            "std                              NaN  4.056781e+05  135332.601192   \n",
            "\n",
            "       transactionid   timestamp_y     property    categoryid      parentid  \n",
            "count   18392.000000  1.569100e+04  15691.00000  15458.000000  15458.000000  \n",
            "mean     8823.220748  1.435862e+12    663.57345    664.998836   1028.000259  \n",
            "min         0.000000  1.431227e+12      0.00000      0.000000      8.000000  \n",
            "25%      4351.500000  1.433041e+12    468.00000    468.000000    727.000000  \n",
            "50%      8728.000000  1.435460e+12    790.00000    790.000000   1008.000000  \n",
            "75%     13301.000000  1.439089e+12    888.00000    888.000000   1492.000000  \n",
            "max     17671.000000  1.442113e+12   1097.00000   1097.000000   1696.000000  \n",
            "std      5117.876322  3.399109e+09    279.31087    280.134131    474.963300  \n"
          ]
        }
      ],
      "source": [
        "# Basic statistics of the integrated DataFrame\n",
        "print(\"Summary Statistics of Integrated DataFrame:\")\n",
        "print(final_df.describe())\n"
      ]
    },
    {
      "cell_type": "code",
      "execution_count": null,
      "metadata": {
        "colab": {
          "base_uri": "https://localhost:8080/",
          "height": 623
        },
        "id": "h9kTVAdTRkYY",
        "outputId": "14d8b883-15c8-4b68-cb79-e2bd3163099c"
      },
      "outputs": [
        {
          "output_type": "stream",
          "name": "stdout",
          "text": [
            "\n",
            "Distribution of Events:\n",
            "event\n",
            "transaction    18392\n",
            "Name: count, dtype: int64\n"
          ]
        },
        {
          "output_type": "display_data",
          "data": {
            "text/plain": [
              "<Figure size 640x480 with 1 Axes>"
            ],
            "image/png": "[encoded data removed]"
          },
          "metadata": {}
        }
      ],
      "source": [
        "# Distribution of different types of events\n",
        "event_counts = final_df['event'].value_counts()\n",
        "print(\"\\nDistribution of Events:\")\n",
        "print(event_counts)\n",
        "\n",
        "# Visualize the distribution of events\n",
        "import matplotlib.pyplot as plt\n",
        "\n",
        "event_counts.plot(kind='bar', color=['skyblue', 'orange', 'green'])\n",
        "plt.title('Distribution of Events')\n",
        "plt.xlabel('Event Type')\n",
        "plt.ylabel('Count')\n",
        "plt.show()\n"
      ]
    },
    {
      "cell_type": "code",
      "execution_count": null,
      "metadata": {
        "colab": {
          "base_uri": "https://localhost:8080/"
        },
        "id": "lpTnbetHjBzU",
        "outputId": "052b978f-b0a1-4e62-a39a-19f8c8ce0875"
      },
      "outputs": [
        {
          "output_type": "stream",
          "name": "stdout",
          "text": [
            "(18392, 10)\n",
            "Missing values: timestamp_x         0\n",
            "visitorid           0\n",
            "event               0\n",
            "itemid              0\n",
            "transactionid       0\n",
            "timestamp_y      2701\n",
            "property         2701\n",
            "value            2701\n",
            "categoryid       2934\n",
            "parentid         2934\n",
            "dtype: int64\n",
            "\n",
            "Shape of final_df after dropping missing values:\n",
            "(15458, 10)\n",
            "Missing values: timestamp_x      0\n",
            "visitorid        0\n",
            "event            0\n",
            "itemid           0\n",
            "transactionid    0\n",
            "timestamp_y      0\n",
            "property         0\n",
            "value            0\n",
            "categoryid       0\n",
            "parentid         0\n",
            "dtype: int64\n"
          ]
        }
      ],
      "source": [
        "import pandas as pd\n",
        "\n",
        "# Load the dataset\n",
        "file_path = 'final_df.csv'  # Adjust to the correct file path\n",
        "final_df = pd.read_csv(file_path)\n",
        "print(final_df.shape)\n",
        "\n",
        "# Check for missing values\n",
        "print(\"Missing values:\", final_df.isnull().sum())\n",
        "#drop the missing values\n",
        "final_df.dropna(inplace=True)\n",
        "#the final shape of final.df\n",
        "print(\"\\nShape of final_df after dropping missing values:\")\n",
        "print(final_df.shape)\n",
        "\n",
        "print(\"Missing values:\", final_df.isnull().sum())\n",
        "\n",
        "\n",
        "\n",
        "\n"
      ]
    },
    {
      "cell_type": "code",
      "source": [
        "# If there are multiple interactions with the same item by a user, we aggregate them\n",
        "final_df['interaction_weight'] = final_df['interaction_weight'].fillna(0)  # Ensure no NaN values\n",
        "\n",
        "# Aggregate interactions (sum or max based on your preference)\n",
        "final_df = final_df.groupby(['visitorid', 'itemid'], as_index=False).agg({\n",
        "    'interaction_weight': 'sum'  # You can also use 'max' if you prefer to keep the highest interaction value\n",
        "})\n",
        "\n",
        "# Verify the aggregation\n",
        "print(final_df.head())\n",
        "# Save the final data to a CSV file\n",
        "final_df.to_csv('final_df_a.csv', index=False)\n",
        "\n",
        "# Confirm the file is saved\n",
        "print(\"Aggregated data saved to 'final_df_a.csv'\")\n",
        "\n"
      ],
      "metadata": {
        "colab": {
          "base_uri": "https://localhost:8080/"
        },
        "id": "U5JcBRhp6FML",
        "outputId": "57f29db7-dfad-4d3c-e253-3887ce2305ee"
      },
      "execution_count": null,
      "outputs": [
        {
          "output_type": "stream",
          "name": "stdout",
          "text": [
            "   visitorid    itemid  interaction_weight\n",
            "0      172.0   10034.0                   1\n",
            "1      172.0  465522.0                   1\n",
            "2      539.0   94371.0                   1\n",
            "3      627.0  414182.0                   1\n",
            "4      795.0  207825.0                   1\n",
            "Aggregated data saved to 'final_df_a.csv'\n"
          ]
        }
      ]
    },
    {
      "cell_type": "code",
      "source": [
        "import pandas as pd\n",
        "import numpy as np\n",
        "from scipy.sparse import coo_matrix\n",
        "\n",
        "# Load your dataset\n",
        "df = pd.read_csv('final_df_a.csv')  # Adjust the file path as needed\n",
        "\n",
        "# Create the interaction matrix (visitorid vs itemid)\n",
        "interaction_matrix = pd.pivot_table(df, values='interaction_weight',\n",
        "                                   index='visitorid', columns='itemid',\n",
        "                                   aggfunc='sum', fill_value=0)\n",
        "\n",
        "# Convert the interaction matrix to sparse format\n",
        "sparse_matrix = coo_matrix(interaction_matrix.values)\n",
        "\n"
      ],
      "metadata": {
        "id": "udTFMsLDpJ9B"
      },
      "execution_count": 216,
      "outputs": []
    },
    {
      "cell_type": "code",
      "source": [
        "# Ensure the sparse matrix is in float type\n",
        "sparse_matrix = sparse_matrix.astype(float)\n",
        "\n",
        "# Perform SVD\n",
        "U, sigma, Vt = svds(sparse_matrix, k=100)  # You can adjust k for the rank of decomposition\n",
        "\n",
        "# Convert sigma to a diagonal matrix\n",
        "sigma = np.diag(sigma)\n",
        "\n",
        "# Reconstruct the predicted matrix\n",
        "predicted_matrix = np.dot(U, np.dot(sigma, Vt))\n",
        "\n",
        "# Convert the predicted matrix back to a DataFrame\n",
        "predicted_df = pd.DataFrame(predicted_matrix, columns=interaction_matrix.columns, index=interaction_matrix.index)\n"
      ],
      "metadata": {
        "id": "AiuhBOQjGfQI"
      },
      "execution_count": 222,
      "outputs": []
    },
    {
      "cell_type": "code",
      "source": [
        "def get_top_n_recommendations(visitor_id, predicted_df, N=3):\n",
        "    # Get the predicted ratings for the visitor\n",
        "    visitor_predicted_ratings = predicted_df.loc[visitor_id].sort_values(ascending=False)\n",
        "\n",
        "    # Get the top N recommended items\n",
        "    top_n_items = visitor_predicted_ratings.head(N).index.tolist()\n",
        "\n",
        "    return top_n_items\n",
        "\n",
        "# Example: Get top 3 recommendations for visitor 57905\n",
        "visitor_id = 57905\n",
        "recommended_items = get_top_n_recommendations(visitor_id, predicted_df, N=3)\n",
        "print(f\"Top 3 recommended items for visitor {visitor_id}: {recommended_items}\")\n"
      ],
      "metadata": {
        "id": "YxVPCR0A9oI-",
        "colab": {
          "base_uri": "https://localhost:8080/"
        },
        "outputId": "313ac6ea-7a9b-41cf-fe6c-a95ef7cc3cd7"
      },
      "execution_count": 247,
      "outputs": [
        {
          "output_type": "stream",
          "name": "stdout",
          "text": [
            "Top 3 recommended items for visitor 57905: [428257.0, 341009.0, 338395.0]\n"
          ]
        }
      ]
    },
    {
      "cell_type": "code",
      "source": [
        "from sklearn.metrics import precision_score, recall_score, f1_score\n",
        "\n",
        "# List of items the user actually interacted with (ground truth)\n",
        "actual_interacted_items = [62275,138196,267416,338395,341009,428257,459583]\n",
        "\n",
        "# List of items recommended by the system\n",
        "recommended_items = [428257.0, 341009.0, 338395.0]\n",
        "\n",
        "# Convert both lists to sets for easier comparison\n",
        "actual_set = set(actual_interacted_items)\n",
        "recommended_set = set(recommended_items)\n",
        "\n",
        "# Calculate Precision\n",
        "# True Positives = intersection of actual_interacted_items and recommended_items\n",
        "tp = len(actual_set.intersection(recommended_set))\n",
        "fp = len(recommended_set) - tp\n",
        "precision = tp / (tp + fp) if tp + fp != 0 else 0\n",
        "\n",
        "# Calculate Recall\n",
        "# False Negatives = actual_interacted_items not in recommended_items\n",
        "fn = len(actual_set) - tp\n",
        "recall = tp / (tp + fn) if tp + fn != 0 else 0\n",
        "\n",
        "# Calculate F1-Score\n",
        "f1 = 2 * (precision * recall) / (precision + recall) if precision + recall != 0 else 0\n",
        "\n",
        "# Calculate Hit Ratio\n",
        "hit_ratio = 1 if tp > 0 else 0  # If at least one item was recommended, it counts as a hit\n",
        "\n",
        "# Print the results\n",
        "print(f\"Precision: {precision:.4f}\")\n",
        "print(f\"Recall: {recall:.4f}\")\n",
        "print(f\"F1-Score: {f1:.4f}\")\n",
        "print(f\"Hit Ratio: {hit_ratio:.4f}\")\n",
        "\n"
      ],
      "metadata": {
        "colab": {
          "base_uri": "https://localhost:8080/"
        },
        "id": "dGyS2B9fQsSu",
        "outputId": "b57acd6a-3c21-447f-d557-ff7bd277005c"
      },
      "execution_count": 248,
      "outputs": [
        {
          "output_type": "stream",
          "name": "stdout",
          "text": [
            "Precision: 1.0000\n",
            "Recall: 0.4286\n",
            "F1-Score: 0.6000\n",
            "Hit Ratio: 1.0000\n"
          ]
        }
      ]
    },
    {
      "cell_type": "code",
      "source": [],
      "metadata": {
        "id": "QPdUx-wLTPR1"
      },
      "execution_count": null,
      "outputs": []
    }
  ],
  "metadata": {
    "colab": {
      "provenance": [],
      "authorship_tag": "ABX9TyPzV57tIr3lZ78qZoyRNnFy",
      "include_colab_link": true
    },
    "kernelspec": {
      "display_name": "Python 3",
      "name": "python3"
    },
    "language_info": {
      "name": "python"
    }
  },
  "nbformat": 4,
  "nbformat_minor": 0
}